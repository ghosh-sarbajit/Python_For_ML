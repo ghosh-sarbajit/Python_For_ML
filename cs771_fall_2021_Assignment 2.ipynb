{
 "cells": [
  {
   "cell_type": "markdown",
   "id": "5d50436b",
   "metadata": {},
   "source": [
    "### Sri Sri Durga Saranyam"
   ]
  },
  {
   "cell_type": "code",
   "execution_count": 2,
   "id": "5772e416",
   "metadata": {},
   "outputs": [],
   "source": [
    "# import of required modules\n",
    "import numpy as np\n",
    "import matplotlib.pyplot as plt\n",
    "import time as t"
   ]
  },
  {
   "cell_type": "markdown",
   "id": "2ea524b0",
   "metadata": {},
   "source": [
    "## Q1."
   ]
  },
  {
   "cell_type": "markdown",
   "id": "c23f9cad",
   "metadata": {},
   "source": [
    "### Q1.a Finding min of two given function"
   ]
  },
  {
   "cell_type": "markdown",
   "id": "4ebf14a3",
   "metadata": {},
   "source": [
    "Given two functions are:\n",
    "1. $f(x) = x^2 + 3x + 4$\n",
    "2. $f(x) = x^4 - 3x^2 + 2x$\n",
    "\n",
    "First order derivative of given two functions are:\n",
    "1. $f(x) = x^2 + 3x + 4$, $ f^\\prime(x) = 2x + 3$\n",
    "2. $f(x) = x^4 - 3x^2 + 2x$, $ f^\\prime(x) = 4x^3 - 6x + 2$\n",
    "\n",
    "Note the first function is a parabola hence it is a convex function. So it does not matter from which point we will start, it will eventually converge into global minima.\n",
    "\n",
    "For the second function we will plot its graph to know nature of the function."
   ]
  },
  {
   "cell_type": "code",
   "execution_count": 3,
   "id": "06236116",
   "metadata": {},
   "outputs": [
    {
     "name": "stdout",
     "output_type": "stream",
     "text": [
      "Min value of function 1 is: 1.75 and this is attained at: -1.5\n"
     ]
    }
   ],
   "source": [
    "# Finding min for function1\n",
    "def gradient_descent(gradient, init_, learn_rate, n_iter=50, tol=1e-06):\n",
    "    x = init_\n",
    "    # print(init_)\n",
    "    for _ in range(n_iter):\n",
    "        # print(gradient)\n",
    "        delta = -learn_rate * gradient(x)\n",
    "        if np.all(np.abs(delta) <= tol):\n",
    "            break\n",
    "        x += delta\n",
    "    return round(x*1000)/1000\n",
    "\n",
    "# function 1\n",
    "def func1(x):\n",
    "    return ((x*x) + (3*x) + 4)\n",
    "\n",
    "# gradient1 is for calculation for function 1\n",
    "def gradient1(x):\n",
    "    return (2*x + 3)\n",
    "\n",
    "min_val_at = gradient_descent(gradient1, 0, 0.5)\n",
    "\n",
    "print(\"Min value of function 1 is: \" + str(func1(min_val_at)) + \" and this is attained at: \" + str(min_val_at))"
   ]
  },
  {
   "cell_type": "code",
   "execution_count": 4,
   "id": "682f2875",
   "metadata": {},
   "outputs": [
    {
     "data": {
      "text/plain": [
       "(-15.0, 30.0)"
      ]
     },
     "execution_count": 4,
     "metadata": {},
     "output_type": "execute_result"
    },
    {
     "data": {
      "image/png": "[encoded data removed]",
      "text/plain": [
       "<Figure size 720x480 with 1 Axes>"
      ]
     },
     "metadata": {
      "needs_background": "light"
     },
     "output_type": "display_data"
    }
   ],
   "source": [
    "# gradient function for function 2\n",
    "def gradient2(x):\n",
    "    return ((4*x*x*x) - (6*x) + 2)\n",
    "\n",
    "# function 2\n",
    "def func2(x):\n",
    "    return (x**4 - 3*x**2 + 2*x)\n",
    "\n",
    "x_list = np.linspace(-3,3, 5000)\n",
    "y_list = func2(x_list)\n",
    "# plt.figure?\n",
    "plt.figure(0, dpi = 120)\n",
    "# plt.plot?\n",
    "plt.plot(x_list, y_list)\n",
    "plt.ylim(-15,30) # setting limit of y-axis bottom = -15; top = 30"
   ]
  },
  {
   "cell_type": "markdown",
   "id": "d68a889d",
   "metadata": {},
   "source": [
    "So from the graph we can see that this function has global minimua some where between **[-2,-1]**. So we will choose **-2** as our initial choice to run the gradient descent algorithm."
   ]
  },
  {
   "cell_type": "code",
   "execution_count": 5,
   "id": "60c4adfa",
   "metadata": {},
   "outputs": [
    {
     "name": "stdout",
     "output_type": "stream",
     "text": [
      "Min value of function 2 is: -4.848076206064 and this is attained at: -1.366\n"
     ]
    }
   ],
   "source": [
    "min_val_at = gradient_descent(gradient2, -2, 0.025)\n",
    "# print(min_val_at)\n",
    "\n",
    "# Finding minima value for function 2\n",
    "print(\"Min value of function 2 is: \" + str(func2(min_val_at)) + \" and this is attained at: \" + str(min_val_at))"
   ]
  },
  {
   "cell_type": "markdown",
   "id": "eb44bf45",
   "metadata": {},
   "source": [
    "### Q1.b Derivation of update rule for lin reg, while using gradient descent method."
   ]
  },
  {
   "cell_type": "markdown",
   "id": "a998f921",
   "metadata": {},
   "source": [
    "Let us consider we have data, $\\{(x_1,y_1), \\dots, (x_n, y_n)\\}$.\n",
    "\n",
    "We want to fit linear regression into this data.So, we are interested in the relation $y=ax+b$.\n",
    "\n",
    "So in order to fit the above relation we have to minimize the mean square error, which is given by $$S = \\frac{1}{n} \\sum_{i=1}^n (y_i - y_{pred})^2 = \\frac{1}{n} \\sum_{i=1}^n (y_i - ax_i - b)^2$$ by finding suitable $(a, b)$ which will minimize the error.\n",
    "\n",
    "We will minimize the above objective function using gradient descent method. Let us first calculate the partial derivativs wrt $a$ and $b$ respectively.\n",
    "\n",
    "$\\begin{align*}\n",
    "    D_a & =\n",
    "    \\frac{\\partial S}{\\partial a} \\\\\n",
    "     & = \\frac{\\partial}{\\partial a} \\frac{1}{n} \\sum_{i=1}^n (y_i - ax_i - b)^2 \\\\\n",
    "     & = - \\frac{2}{n} \\sum_{i=1}^n x_i(y_i - ax_i - b) \\\\\n",
    "     & = - \\frac{2}{n} \\sum_{i=1}^n x_i(y_i - y_{pred})\n",
    "\\end{align*}$\n",
    "\n",
    "$\\begin{align*}\n",
    "    D_b & =\n",
    "    \\frac{\\partial S}{\\partial b} \\\\\n",
    "     & = \\frac{\\partial}{\\partial b} \\frac{1}{n} \\sum_{i=1}^n (y_i - ax_i - b)^2 \\\\\n",
    "     & = - \\frac{2}{n} \\sum_{i=1}^n (y_i - ax_i - b) \\\\\n",
    "     & = - \\frac{2}{n} \\sum_{i=1}^n (y_i - y_{pred})\n",
    "\\end{align*}$\n",
    "\n",
    "Hence the update rule will be as follows:\n",
    "$$a:=a- \\lambda D_a$$\n",
    "$$b:=b -\\lambda D_b$$\n",
    "\n",
    "Where, $\\lambda$ is the learning_rate"
   ]
  },
  {
   "cell_type": "code",
   "execution_count": null,
   "id": "b07c1362",
   "metadata": {},
   "outputs": [],
   "source": []
  },
  {
   "cell_type": "markdown",
   "id": "869a7e5a",
   "metadata": {},
   "source": [
    "### Q1.c Generation of artificial data and estimation of lin reg parameters while using gradient descent method"
   ]
  },
  {
   "cell_type": "markdown",
   "id": "4be3066f",
   "metadata": {},
   "source": [
    "In this problem we are working with artificial data. And the model parameters are known to us. **Thus we have not splited the data into traing set and testing set**."
   ]
  },
  {
   "cell_type": "markdown",
   "id": "5ba6b8b4",
   "metadata": {},
   "source": [
    "In this problem we have to update parameter vector. So let us derive the update rule continue from Q1.b derivation.\n",
    "\n",
    "In Q1.b we have got update rule:\n",
    "$$a:=a- \\lambda D_a$$\n",
    "$$b:=b -\\lambda D_b$$\n",
    "\n",
    "Where,\n",
    "\n",
    "$\\begin{align*}\n",
    "    D_a & =\n",
    "     - \\frac{2}{n} \\sum_{i=1}^n x_i(y_i - y_{pred})\n",
    "\\end{align*}$\n",
    "\n",
    "$\\begin{align*}\n",
    "    D_b & =\n",
    "    - \\frac{2}{n} \\sum_{i=1}^n (y_i - y_{pred})\n",
    "\\end{align*}$\n",
    "\n",
    "Now can write,\n",
    "\n",
    "$\\begin{align*}\n",
    "     \\begin{pmatrix}b\\\\a\\end{pmatrix} & =\n",
    "     \\begin{pmatrix}b\\\\a\\end{pmatrix} - \\lambda \\begin{pmatrix} D_b\\\\D_a\\end{pmatrix} \\\\\n",
    "     & = \\begin{pmatrix}b\\\\a\\end{pmatrix} - \\lambda \\begin{pmatrix} - \\frac{2}{n} \\sum_{i=1}^n (y_i - y_{pred}) \\\\ - \\frac{2}{n} \\sum_{i=1}^n x_i(y_i - y_{pred}) \\end{pmatrix} \\\\\n",
    "     & = \\begin{pmatrix}b\\\\a\\end{pmatrix} - \\lambda^\\prime \\begin{pmatrix} \\sum_{i=1}^n (y_i - y_{pred}) \\\\  \\sum_{i=1}^n x_i(y_i - y_{pred}) \\end{pmatrix}   \\: Where, \\: \\lambda^\\prime = -\\frac{2\\lambda}{n} \\\\\n",
    "     & = \\begin{pmatrix}b\\\\a\\end{pmatrix} - \\lambda^\\prime   \\begin{pmatrix}1 & 1 & \\dots & 1 \\\\x_1 & x_2 & \\dots & x_n \\end{pmatrix}    \\begin{pmatrix} y_1 - y_{pred} \\\\ y_2 - y_{pred} \\\\ \\dots \\\\ y_n - y_{pred}\\end{pmatrix} \\\\\n",
    "     & = \\begin{pmatrix}b\\\\a\\end{pmatrix} - \\lambda^\\prime   X^t \\mathbf{y}\n",
    "\\end{align*}$\n",
    "\n",
    "Where, \n",
    "$\n",
    "X^t = \\begin{pmatrix}1 & 1 & \\dots & 1 \\\\x_1 & x_2 & \\dots & x_n \\end{pmatrix}\n",
    "$\n",
    "\n",
    "$\n",
    "\\mathbf{y} = \\begin{pmatrix} y_1 - y_{pred} \\\\ y_2 - y_{pred} \\\\ \\dots \\\\ y_n - y_{pred}\\end{pmatrix}\n",
    "$\n",
    "\n",
    "We will use the following relation to update parameter vector. For a given dataset $\\frac{-2}{n}$ is constant, so it is okay if we take it within $\\lambda$.\n",
    " \n"
   ]
  },
  {
   "cell_type": "code",
   "execution_count": 6,
   "id": "2b7ff906",
   "metadata": {},
   "outputs": [
    {
     "name": "stdout",
     "output_type": "stream",
     "text": [
      "It took 0.1933505249999996 seconds to complete the batch gradient descent \n",
      "(intercept, gradient) = (b,a) = ([1.9926712], [[0.29946283]])\n"
     ]
    }
   ],
   "source": [
    "# generate artificial data\n",
    "# We are taking random seed as 17, this will help to regerate this random values\n",
    "np.random.seed(17)\n",
    "X = 2.5 * np.random.randn(10000) + 1.5 # Arr of 10000 values with mean = 1.5, stddev = 2.5\n",
    "res = 1.5 * np.random.randn(10000) # gen 10000 residual terms\n",
    "y = 2 + 0.3 * X + res\n",
    "\n",
    "\n",
    "# Start of batch gradient descent\n",
    "# Objective of this func is to calculate y label based on current parameter value\n",
    "def predict(X, weight):\n",
    "    return np.dot(X, weight) \n",
    "  \n",
    "# function to compute gradient of error function w.r.t. theta\n",
    "def gradient(X, y, weight):\n",
    "    y_pred = predict(X, weight)\n",
    "    grad = np.dot(X.transpose(), (y_pred - y)) \n",
    "    return grad\n",
    "\n",
    "\n",
    "# function to perform mini-batch gradient descent\n",
    "def gradientDescent_1c(X, y, learning_rate, tol=1e-06, n_iter = 1000):\n",
    "    # print(X.shape[1])\n",
    "    weight = np.zeros((X.shape[1], 1)) # Initialization of parameters with zeros\n",
    "    for _ in range(n_iter):\n",
    "        delta = - learning_rate * gradient(X, y, weight)\n",
    "        weight = weight + delta \n",
    "        if np.all(np.abs(delta) <= tol):\n",
    "            break\n",
    "    return weight\n",
    "\n",
    "\n",
    "X = X.reshape(-1,1)\n",
    "# print(X.shape)\n",
    "# print(X.ndim)\n",
    "X = np.hstack((np.ones((X.shape[0], 1)), X))\n",
    "y = y.reshape(-1,1)\n",
    "# print(y.shape)\n",
    "# print(y.ndim)\n",
    "\n",
    "\n",
    "tic = t.process_time()\n",
    "weight = gradientDescent_1c(X, y, 0.00001)\n",
    "toc = t.process_time()\n",
    "print( \"It took \" + str(toc - tic) + \" seconds to complete the batch gradient descent \")\n",
    "\n",
    "print(\"(intercept, gradient) = (b,a) = \" + \"(\" + str(weight[0]) + \", \" + str(weight[1:]) + \")\")\n"
   ]
  },
  {
   "cell_type": "markdown",
   "id": "eb4f93bc",
   "metadata": {},
   "source": [
    "### Q1.d Implementation of minibatch stochastic gradient descent "
   ]
  },
  {
   "cell_type": "markdown",
   "id": "1bef9590",
   "metadata": {},
   "source": [
    "In mini-batch gradient descent we take a sub-set of sample from the whole set. Here we have been asked to implement minibatch stochastic gradient descent. We know that for batch size 1 mini-batch gradient descent is same as minibatch stochastic gradient descent.\n",
    "\n",
    "Here we have implemented mini-batch gradient descent in general. Our fuction takes batch-size as an argument. so we have passed batch_size = 1, to make it minibatch stochastic gradient descent.\n",
    "\n",
    "**Some specications of the entire code**\n",
    "\n",
    "- It has 4 functions\n",
    "- predict function calculate value of label, based on current parameter values\n",
    "- gradient function calculates the gradient (Theory is given in the context of Q1.c)\n",
    "- We have witten a function for generating a list of mini batches from the whole data set\n",
    "- Finally we have modified our previous function for performing mini-batch gradient descent."
   ]
  },
  {
   "cell_type": "markdown",
   "id": "9cfd7028",
   "metadata": {},
   "source": [
    " "
   ]
  },
  {
   "cell_type": "code",
   "execution_count": 8,
   "id": "4bb706b6",
   "metadata": {},
   "outputs": [
    {
     "name": "stdout",
     "output_type": "stream",
     "text": [
      "(10000, 1)\n",
      "It took 0.18038469700000004 seconds to complete the mini-batch gradient descent \n",
      "(intercept, gradient) = (b,a) = ([1.98845244], [[0.29530502]])\n"
     ]
    }
   ],
   "source": [
    "# generate artificial data\n",
    "np.random.seed(0)\n",
    "X = 2.5 * np.random.randn(10000) + 1.5 # Arr of 10000 values with mean = 1.5, stddev = 2.5\n",
    "res = 1.5 * np.random.randn(10000) # gen 10000 residual terms\n",
    "y = 2 + 0.3 * X + res\n",
    "\n",
    "# Start of batch gradient descent\n",
    "def predict(X, weight):\n",
    "    return np.dot(X, weight) # Returns dot product\n",
    "  \n",
    "# function to compute gradient of error function w.r.t. theta\n",
    "def gradient(X, y, weight):\n",
    "    y_pred = predict(X, weight)\n",
    "    grad = np.dot(X.transpose(), (y_pred - y)) \n",
    "    return grad\n",
    "\n",
    "# createing a list of mini-batches\n",
    "def create_mini_batches(X, y, batch_size):\n",
    "    mini_batches = []\n",
    "    data = np.hstack((X, y)) # grouping all of the data\n",
    "    np.random.shuffle(data) # make random shuffle of data\n",
    "    n_minibatches = data.shape[0] // batch_size # calculation of how many batch are there\n",
    "    i = 0\n",
    "  \n",
    "    for i in range(n_minibatches + 1):\n",
    "        mini_batch = data[i * batch_size:(i + 1)*batch_size, :]\n",
    "        X_mini = mini_batch[:, :-1] # dropping of last column\n",
    "        Y_mini = mini_batch[:, -1].reshape((-1, 1)) # take only the last col, and add an extra dim\n",
    "        mini_batches.append((X_mini, Y_mini))\n",
    "        # If batch size is not multiple of data set size\n",
    "    if data.shape[0] % batch_size != 0:\n",
    "        mini_batch = data[i * batch_size:data.shape[0]]\n",
    "        X_mini = mini_batch[:, :-1]\n",
    "        Y_mini = mini_batch[:, -1].reshape((-1, 1))\n",
    "        mini_batches.append((X_mini, Y_mini))\n",
    "        \n",
    "    return mini_batches\n",
    "\n",
    "\n",
    "\n",
    "# function to perform mini-batch gradient descent\n",
    "def gradientDescent_1d(X, y, batch_size, learning_rate, tol=1e-06, epoch = 3):\n",
    "    # print(X.shape[1])\n",
    "    # Initialization of parameters with zeros\n",
    "    weight = np.zeros((X.shape[1], 1))\n",
    "    for _ in range(epoch):\n",
    "        mini_batches = create_mini_batches(X, y, batch_size)\n",
    "        for mini_batch in mini_batches:\n",
    "            X_mini, y_mini = mini_batch\n",
    "            delta = - learning_rate * gradient(X_mini, y_mini, weight)\n",
    "            weight = weight + delta\n",
    "            if np.all(np.abs(delta) <= tol):\n",
    "                break\n",
    "    return weight\n",
    "\n",
    "\n",
    "X = X.reshape(-1,1)\n",
    "print(X.shape)\n",
    "# print(X.ndim)\n",
    "X = np.hstack((np.ones((X.shape[0], 1)), X))\n",
    "y = y.reshape(-1,1)\n",
    "# print(y.shape)\n",
    "# print(y.ndim)\n",
    "\n",
    "# calculation of time\n",
    "tic = t.process_time()\n",
    "# The 4 parametrs are X the design matrix, labels, batch_size, learning_rate\n",
    "weight = gradientDescent_1d(X, y, 1, 0.0025) \n",
    "toc = t.process_time()\n",
    "print( \"It took \" + str(toc - tic) + \" seconds to complete the mini-batch gradient descent \")\n",
    "print(\"(intercept, gradient) = (b,a) = \" + \"(\" + str(weight[0]) + \", \" + str(weight[1:]) + \")\")"
   ]
  },
  {
   "cell_type": "markdown",
   "id": "6024d2c9",
   "metadata": {},
   "source": [
    "### Q1.e Comparison of SGD (stochastic gradient descent) and mini-batch gradient descent with different batch size."
   ]
  },
  {
   "cell_type": "markdown",
   "id": "2427832a",
   "metadata": {},
   "source": [
    "**Note:**\n",
    "- **If we take _mini-batch size =1_ then it will be a stochastic gradient descent**\n",
    "- **If we taje _mini-batch size =(data-set size)_ it will be batch gradient descent**\n",
    "- For this problem we have taken batch size which is \n",
    "\n",
    "**Also Note:**\n",
    "Since for different computer processing time are different, so I have taken screenshots what result I have obtained and I am adding the screenshots in the directory."
   ]
  },
  {
   "cell_type": "code",
   "execution_count": 7,
   "id": "8bf94dcf",
   "metadata": {
    "scrolled": false
   },
   "outputs": [
    {
     "name": "stdout",
     "output_type": "stream",
     "text": [
      "It took 0.3378917210000001 seconds to complete the mini-batch grad-des with batch_size = 1\n",
      "(intercept, gradient) = (b,a) = ([1.99866063], [[0.29739628]])\n",
      "\n",
      "\n",
      "It took 0.0673356260000002 seconds to complete the mini-batch grad-des with batch_size = 32\n",
      "(intercept, gradient) = (b,a) = ([1.90714364], [[0.28260718]])\n",
      "\n",
      "\n",
      "It took 0.044652854999999825 seconds to complete the mini-batch grad-des with batch_size = 64\n",
      "(intercept, gradient) = (b,a) = ([1.99066927], [[0.36515699]])\n",
      "\n",
      "\n",
      "It took 0.029542235000000083 seconds to complete the mini-batch grad-des with batch_size = 128\n",
      "(intercept, gradient) = (b,a) = ([2.01924215], [[0.33107668]])\n",
      "\n",
      "\n",
      "It took 0.025668881000000088 seconds to complete the mini-batch grad-des with batch_size = 256\n",
      "(intercept, gradient) = (b,a) = ([1.99220564], [[0.30210517]])\n",
      "\n",
      "\n",
      "It took 0.025707354999999765 seconds to complete the mini-batch grad-des with batch_size = 512\n",
      "(intercept, gradient) = (b,a) = ([1.98268469], [[0.26579349]])\n",
      "\n",
      "\n",
      "It took 0.026217388000000064 seconds to complete the mini-batch with batch_size = 1024\n",
      "(intercept, gradient) = (b,a) = ([1.9710702], [[0.28798408]])\n",
      "\n",
      "\n",
      "It took 0.029933994999999936 seconds to complete the mini-batch with batch_size = 2048\n",
      "(intercept, gradient) = (b,a) = ([1.88580559], [[0.31563096]])\n"
     ]
    }
   ],
   "source": [
    "# Here we will run gradientDescent_1d for different batch size\n",
    "np.random.seed(17)\n",
    "X = 2.5 * np.random.randn(10000) + 1.5 # Arr of 10000 values with mean = 1.5, stddev = 2.5\n",
    "res = 1.5 * np.random.randn(10000) # gen 10000 residual terms\n",
    "y = 2 + 0.3 * X + res\n",
    "\n",
    "X = X.reshape(-1,1)\n",
    "X = np.hstack((np.ones((X.shape[0], 1)), X))\n",
    "y = y.reshape(-1,1)\n",
    "\n",
    "# Here we have used any loop because for each batch size different learning rate was required \n",
    "\n",
    "tic = t.process_time()\n",
    "weight = gradientDescent_1d(X, y, 1, 0.0025)\n",
    "toc = t.process_time()\n",
    "print( \"It took \" + str(toc - tic) + \" seconds to complete the mini-batch grad-des with batch_size = 1\")\n",
    "print(\"(intercept, gradient) = (b,a) = \" + \"(\" + str(weight[0]) + \", \" + str(weight[1:]) + \")\")\n",
    "print(\"\\n\")\n",
    "\n",
    "\n",
    "tic = t.process_time()\n",
    "weight = gradientDescent_1d(X, y, 32, 0.0017)\n",
    "toc = t.process_time()\n",
    "print( \"It took \" + str(toc - tic) + \" seconds to complete the mini-batch grad-des with batch_size = 32\")\n",
    "print(\"(intercept, gradient) = (b,a) = \" + \"(\" + str(weight[0]) + \", \" + str(weight[1:]) + \")\")\n",
    "print(\"\\n\")\n",
    "\n",
    "\n",
    "tic = t.process_time()\n",
    "weight = gradientDescent_1d(X, y, 64, 0.00161)\n",
    "toc = t.process_time()\n",
    "print( \"It took \" + str(toc - tic) + \" seconds to complete the mini-batch grad-des with batch_size = 64\")\n",
    "print(\"(intercept, gradient) = (b,a) = \" + \"(\" + str(weight[0]) + \", \" + str(weight[1:]) + \")\")\n",
    "print(\"\\n\")\n",
    "\n",
    "tic = t.process_time()\n",
    "weight = gradientDescent_1d(X, y, 128, 0.0005)\n",
    "toc = t.process_time()\n",
    "print( \"It took \" + str(toc - tic) + \" seconds to complete the mini-batch grad-des with batch_size = 128\")\n",
    "print(\"(intercept, gradient) = (b,a) = \" + \"(\" + str(weight[0]) + \", \" + str(weight[1:]) + \")\")\n",
    "print(\"\\n\")\n",
    "\n",
    "tic = t.process_time()\n",
    "weight = gradientDescent_1d(X, y, 256, 0.00035)\n",
    "toc = t.process_time()\n",
    "print( \"It took \" + str(toc - tic) + \" seconds to complete the mini-batch grad-des with batch_size = 256\")\n",
    "print(\"(intercept, gradient) = (b,a) = \" + \"(\" + str(weight[0]) + \", \" + str(weight[1:]) + \")\")\n",
    "print(\"\\n\")\n",
    "\n",
    "tic = t.process_time()\n",
    "weight = gradientDescent_1d(X, y, 512, 0.00035)\n",
    "toc = t.process_time()\n",
    "print( \"It took \" + str(toc - tic) + \" seconds to complete the mini-batch grad-des with batch_size = 512\")\n",
    "print(\"(intercept, gradient) = (b,a) = \" + \"(\" + str(weight[0]) + \", \" + str(weight[1:]) + \")\")\n",
    "print(\"\\n\")\n",
    "\n",
    "tic = t.process_time()\n",
    "weight = gradientDescent_1d(X, y, 1024, 0.000205)\n",
    "toc = t.process_time()\n",
    "print( \"It took \" + str(toc - tic) + \" seconds to complete the mini-batch with batch_size = 1024\")\n",
    "print(\"(intercept, gradient) = (b,a) = \" + \"(\" + str(weight[0]) + \", \" + str(weight[1:]) + \")\")\n",
    "print(\"\\n\")\n",
    "\n",
    "tic = t.process_time()\n",
    "weight = gradientDescent_1d(X, y, 2048, 0.000105)\n",
    "toc = t.process_time()\n",
    "print( \"It took \" + str(toc - tic) + \" seconds to complete the mini-batch with batch_size = 2048\")\n",
    "print(\"(intercept, gradient) = (b,a) = \" + \"(\" + str(weight[0]) + \", \" + str(weight[1:]) + \")\")"
   ]
  },
  {
   "cell_type": "markdown",
   "id": "98bbca74",
   "metadata": {},
   "source": [
    "## Comment using the observed result (Q1e)\n",
    "\n",
    "- We make made the following table based on our observation.\n",
    "- For batch gradient descent we have used the result obtained in 1.c\n",
    "- Based on our observation **stochastic gradient descent** is the slowest.\n",
    "- Also batch gradient descent performed slower.\n",
    "- Mini-batch gradient descent with batch size 512, 1024, 2048 were the fastest three. \\[Not in order\\]\n",
    "- Batch size 256 also done quite well inters of both speed and parameter estimation accuracy\n",
    "- So we will recommend batch size 256 \\[Considering both speed and accuracy\\]\n",
    "\n",
    "| Batch Size | leaning_rate | Time Taken (in sec) | Cal. Val of b | Cal. Val of a | Comment         |\n",
    "|------------|--------------|---------------------|---------------|---------------|-----------------|\n",
    "| 1          | 0.0025       | 0.261499            | 1.998660      | 0.297396      |                 |\n",
    "| 32         | 0.0017       | 0.036875            | 1.907143      | 0.282607      |                 |\n",
    "| 64         | 0.00161      | 0.030282            | 1.990669      | 0.365156      |                 |\n",
    "| 128        | 0.0005       | 0.027439            | 2.019242      | 0.331076      |                 |\n",
    "| 256        | 0.00035      | 0.025568            | 1.992205      | 0.302105      |                 |\n",
    "| 512        | 0.00035      | 0.024917            | 1.982684      | 0.265793      |                 |\n",
    "| 1024       | 0.000205     | 0.024603            | 1.971070      | 0.287984      |                 |\n",
    "| 2048       | 0.000105     | 0.024488            | 1.885805      | 0.315630      |                 |\n",
    "| 10000      | 0.00001      | 0.097512            | 1.99267       | 0.299462      | Obtained in 1.c |\n",
    "\n"
   ]
  },
  {
   "cell_type": "markdown",
   "id": "ff3b088a",
   "metadata": {},
   "source": [
    "  "
   ]
  },
  {
   "cell_type": "markdown",
   "id": "26bea3b5",
   "metadata": {},
   "source": [
    "## Q2"
   ]
  },
  {
   "cell_type": "markdown",
   "id": "46593157",
   "metadata": {},
   "source": [
    "### Q2(i) Probability that someone has both cold and a fever"
   ]
  },
  {
   "cell_type": "markdown",
   "id": "15492d2d",
   "metadata": {},
   "source": [
    "Given,\n",
    "\n",
    "$Pr[Fever = T|Cold =T] = 0.307$\n",
    "\n",
    "and $Pr[Cold = T] = 0.02$\n",
    "\n",
    "$$\\therefore Pr[Fever = T,Cold =T] = Pr[Fever = T|Cold =T]Pr[Cold = T] = 0.307*0.02 = 0.00614$$ **(Ans)**"
   ]
  },
  {
   "cell_type": "markdown",
   "id": "9d5e996a",
   "metadata": {},
   "source": [
    "### Q2(ii) Probability that someone who has a cough has a cold \\[calculation in python also given\\]"
   ]
  },
  {
   "cell_type": "markdown",
   "id": "c01b9ae8",
   "metadata": {},
   "source": [
    "We will use the following notaion in this particular solution.\n",
    "\n",
    "- **Cou** to denote Cough.\n",
    "- **LD** to denote Lung Disease.\n",
    "- **Co** to denote cold. \n",
    "- **S** to denote Smoke.\n",
    "- **T** to denote True.\n",
    "- **F** to denote False.\n",
    "\n",
    "Here we have to find the probability, $$Pr[Co=T|Cou=T]$$\n",
    "\n",
    "Now,\n",
    "\n",
    "$\\begin{align*}\n",
    "     Pr[Co=T|Cou=T] & =\n",
    "     \\frac{Pr[Co=T, Cou=T]}{Pr[Cou=T]} \\\\\n",
    "     & = \\frac{\\sum_{LD \\in \\{T,F\\}} Pr[Co=T, Cou=T, LD] }  {\\sum_{LD, \\; Co \\in \\{T,F\\}} Pr[Cou=T, Co, LD]}\\\\\n",
    "     & = \\frac{Pr[Cou=T, LD=T, Co=T] + Pr[Cou=T, LD=F, Co=T]}  {Pr[Cou=T, LD=T, Co=T] + Pr[Cou=T, LD=T, Co=F] + Pr[Cou=T, LD=F, Co=T] + Pr[Cou=T, LD=F, Co=F]}\n",
    "\\end{align*}$\n",
    "\n",
    "Before going into calculation of these probabilities we will calculate, $Pr[LD=T]$ and $Pr[LD=F]$ which will prove be necessary later.\n",
    "\n",
    "$\\begin{align*}\n",
    "     Pr[LD=T] & =\n",
    "     Pr[LD=T, S=T] + Pr[LD=T, S=F] \\\\\n",
    "     & =  Pr[LD=T| S=T] Pr[S=T] + Pr[LD=T| S=F]Pr[S=F]\\\\\n",
    "     & =  0.1009 \\times 0.2 + 0.001 \\times 0.8 \\\\\n",
    "     & = 0.02098\n",
    "\\end{align*}$\n",
    "\n",
    "$\\begin{align*}\n",
    "     Pr[LD=F] & =\n",
    "     1 - Pr[LD=T] = 0.97902\n",
    "\\end{align*}$\n",
    "\n",
    "Now calculate the following probabilities,\n",
    "\n",
    "**Note:** LD and Co are independent.\n",
    "\n",
    "$\\begin{align*}\n",
    "     Pr[Cou=T, LD=T, Co=T] & =\n",
    "     Pr[Cou=T| LD=T, Co=T]Pr[LD=T, Co=T] \\\\\n",
    "     & = Pr[Cou=T| LD=T, Co=T]Pr[LD=T] Pr[Co=T] \\\\\n",
    "     & = 0.7525 \\times 0.02098 \\times 0.02 \\\\\n",
    "     & = 0.000315749\n",
    "\\end{align*}$\n",
    "\n",
    "$\\begin{align*}\n",
    "     Pr[Cou=T, LD=T, Co=F] & =\n",
    "     Pr[Cou=T| LD=T, Co=F] Pr[LD=T, Co=F]\\\\\n",
    "     & =  Pr[Cou=T| LD=T, Co=F] Pr[LD=T] Pr[Co=F]\\\\\n",
    "     & = 0.505 \\times 0.02098 \\times 0.98 \\\\\n",
    "     & = 0.010383002\n",
    "\\end{align*}$\n",
    "\n",
    "$\\begin{align*}\n",
    "     Pr[Cou=T, LD=F, Co=T] & =\n",
    "     Pr[Cou=T| LD=F, Co=T] Pr[LD=F, Co=T]\\\\\n",
    "     & =  Pr[Cou=T| LD=F, Co=T] Pr[LD=F] Pr[Co=T]\\\\\n",
    "     & = 0.505 \\times 0.97902 \\times 0.02\\\\\n",
    "     & = 0.009888102\n",
    "\\end{align*}$\n",
    "\n",
    "$\\begin{align*}\n",
    "     Pr[Cou=T, LD=F, Co=F] & =\n",
    "     Pr[Cou=T| LD=F, Co=F] Pr[LD=F, Co=F]\\\\\n",
    "     & =  Pr[Cou=T| LD=F, Co=F] Pr[LD=F] Pr[Co=F]\\\\\n",
    "     & = 0.01 \\times 0.97902 \\times 0.98\\\\\n",
    "     & = 0.009594396\n",
    "\\end{align*}$\n",
    "\n",
    "Putting the values in the above formuala we get, $$Pr[Co=T|Cou=T] = 0.338085776$$ **(Ans)**"
   ]
  },
  {
   "cell_type": "code",
   "execution_count": 8,
   "id": "b5ae78bd",
   "metadata": {},
   "outputs": [
    {
     "name": "stdout",
     "output_type": "stream",
     "text": [
      "0.020980000000000002\n",
      "0.000315749\n",
      "0.010383001999999999\n",
      "0.009888102\n",
      "0.009594396\n",
      "0.33808577637062004\n"
     ]
    }
   ],
   "source": [
    "# Rough calculation for Q2(ii)\n",
    "# Pr(LD=T) = p1\n",
    "p1 = (0.1009*0.2) + (0.001*0.8)\n",
    "# Pr(LD=F) = p2\n",
    "p2 = 1 - p1\n",
    "print(p1)\n",
    "\n",
    "# Pr[Cou=T, LD=T, Co=T]\n",
    "p3 = 0.7525 * 0.02098 * 0.02\n",
    "print(p3)\n",
    "\n",
    "# Pr[Cou=T, LD=T, Co=F]\n",
    "p4 = 0.505 * 0.02098 * 0.98\n",
    "print(p4)\n",
    "\n",
    "#Pr[Cou=T, LD=F, Co=T]\n",
    "p5 = 0.505 * 0.97902 * 0.02\n",
    "print(p5)\n",
    "\n",
    "#Pr[Cou=T, LD=F, Co=F]\n",
    "p6 = 0.01 * 0.97902 * 0.98\n",
    "print(p6)\n",
    "\n",
    "print((p3 + p5)/(p3 + p4 + p5 + p6))\n",
    "\n"
   ]
  },
  {
   "cell_type": "markdown",
   "id": "5867b5a3",
   "metadata": {},
   "source": [
    "## Q3"
   ]
  },
  {
   "cell_type": "markdown",
   "id": "416e014f",
   "metadata": {},
   "source": [
    "### Calculation of maximum likelyhood estimate (MLE) of parameters of multionomial distribution"
   ]
  },
  {
   "cell_type": "markdown",
   "id": "f9df955f",
   "metadata": {},
   "source": [
    "Here we have to find the MLE estimate of multinomial distribution.\n",
    "\n",
    "Let us consider we have $n$ random variables $X_1, X_2, \\dots, X_n$.\n",
    "\n",
    "This variables are jointly distributed as multinomial distribution with probability $p_1, p_2, \\dots, p_n$ respectively. \n",
    "\n",
    "Clearly, $$p_1 + p_2 + \\dots + p_n =1$$\n",
    "\n",
    "Hence, their jouni pmf is given by, $$f(x_1, x_2, \\dots, x_n; p_1, p_2, \\dots, p_n) = \\frac{(x_1+x_2+ \\dots + x_n)!}{x_1!x_2! \\dots x_n!} p_1^{x_1} p_2^{x_2} \\dots p_n^{x_n}$$\n",
    "\n",
    "**Now consider that we have the following data.**\n",
    "\n",
    "Also, consider a particular realization of $N$ trails, where these random variables has occurred $x_1, x_2, \\dots, x_n$ times.\n",
    "\n",
    "clearly, $$x_1 + x_2 + \\dots + x_n = N$$\n",
    "\n",
    "So, the likelihood function is given by, $$\\mathcal{L}(p_1, p_2, \\dots, p_n|x_1, x_2, \\dots, x_n) = \\frac{N!}{x_1!x_2! \\dots x_n!} p_1^{x_1} p_2^{x_2} \\dots p_n^{x_n} $$\n",
    "\n",
    "Or the log-likelihood is given, $$\\mathcal{l}(p_1, p_2, \\dots, p_n|x_1, x_2, \\dots, x_n) = \\log(N!) - \\sum_{i=1}^n \\log(x_i!) + \\sum_{i=1}^n x_i \\log(p_i)$$\n",
    "\n",
    "We would like to maximize the log-likelihood wrt to the parameters $p_1, p_2, \\dots, p_n$ and subject to the constraint $p_1 + p_2 + \\dots + p_n =1$\n",
    "\n",
    "Or we would like to maximize, $$F(p_1, p_2, \\dots, p_n, \\lambda)=\\log(N!) - \\sum_{i=1}^n \\log(x_i!) + \\sum_{i=1}^n x_i \\log(p_i) + \\lambda (1-\\sum_{i=1}^n p_i)$$\n",
    "Where $\\lambda$ is Lagrange multiplyer\n",
    "\n",
    "Now,\n",
    "\n",
    "$\\begin{align*}\n",
    "    \\frac{\\partial F}{\\partial p_i} & =\n",
    "     \\frac{x_i}{p_i} - \\lambda , \\forall i = 1(1)n\n",
    "\\end{align*}$\n",
    "\n",
    "$\\begin{align*}\n",
    "    \\frac{\\partial F}{\\partial \\lambda} & =\n",
    "     1-\\sum_{i=1}^n p_i\n",
    "\\end{align*}$\n",
    "\n",
    "Now making, $$\\frac{\\partial F}{\\partial p_1}=\\frac{\\partial F}{\\partial p_2}= \\dots = \\frac{\\partial F}{\\partial p_n} = \\frac{\\partial F}{\\partial \\lambda} = 0$$\n",
    "\n",
    "We get,\n",
    "\n",
    "$$\\begin{cases}\n",
    "                      \\frac{x_i}{p_i} - \\lambda=0, \\forall i = 1(1)n \\\\\n",
    "                      1-\\sum_{i=1}^n p_i = 0\n",
    " \\end{cases}$$\n",
    "\n",
    "Or,\n",
    "\n",
    "$$\\begin{cases}\n",
    "                      p_i = \\frac{x_i}{\\lambda}, \\forall i = 1(1)n \\\\\n",
    "                      1-\\sum_{i=1}^n p_i = 0\n",
    " \\end{cases}$$\n",
    "\n",
    "Or,\n",
    "\n",
    "$$\\begin{cases}\n",
    "                      p_i = \\frac{x_i}{\\lambda}, \\forall i = 1(1)n \\\\\n",
    "                      \\lambda = \\sum_{i=1}^n x_i  = N\n",
    " \\end{cases}$$\n",
    " \n",
    "Hence, the maximum likelihood estimate of parameters are given by, $$(\\hat{p_1}, \\hat{p_2}, \\dots, \\hat{p_n}) = (\\frac{x_1}{N}, \\frac{x_2}{N}, \\dots, \\frac{x_n}{N}) = (\\frac{x_1}{\\sum_{i=1}^n x_i}, \\frac{x_2}{\\sum_{i=1}^n x_i}, \\dots, \\frac{x_n}{\\sum_{i=1}^n x_i})$$"
   ]
  },
  {
   "cell_type": "code",
   "execution_count": null,
   "id": "07466be1",
   "metadata": {},
   "outputs": [],
   "source": []
  },
  {
   "cell_type": "code",
   "execution_count": null,
   "id": "22de1218",
   "metadata": {},
   "outputs": [],
   "source": []
  },
  {
   "cell_type": "code",
   "execution_count": null,
   "id": "1c55e9ec",
   "metadata": {},
   "outputs": [],
   "source": []
  }
 ],
 "metadata": {
  "kernelspec": {
   "display_name": "Python 3 (ipykernel)",
   "language": "python",
   "name": "python3"
  },
  "language_info": {
   "codemirror_mode": {
    "name": "ipython",
    "version": 3
   },
   "file_extension": ".py",
   "mimetype": "text/x-python",
   "name": "python",
   "nbconvert_exporter": "python",
   "pygments_lexer": "ipython3",
   "version": "3.8.10"
  }
 },
 "nbformat": 4,
 "nbformat_minor": 5
}
